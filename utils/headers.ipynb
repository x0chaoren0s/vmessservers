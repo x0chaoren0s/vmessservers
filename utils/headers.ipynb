{
 "cells": [
  {
   "cell_type": "code",
   "execution_count": 1,
   "metadata": {},
   "outputs": [],
   "source": [
    "cURL_bash=r\"\"\"\n",
    "curl 'https://www.ykmh.net/manhua/jishidajiadoubeiyongzheshuileyebunengfangqizhandouzuihouyingdeyidingshiwo/197623.html' \\\n",
    "  -H 'accept: text/html,application/xhtml+xml,application/xml;q=0.9,image/avif,image/webp,image/apng,*/*;q=0.8,application/signed-exchange;v=b3;q=0.7' \\\n",
    "  -H 'accept-language: zh-CN,zh;q=0.9,en;q=0.8,en-GB;q=0.7,en-US;q=0.6' \\\n",
    "  -H 'cache-control: no-cache' \\\n",
    "  -H 'cookie: PHPSESSID=v5q5o55vc6baehcfkbretvio1o; _csrf=2y9PNxTnYgpnTKuhsjjMoFWM2jlmS8x0; X_CACHE_KEY=4c42faae2fe6bcdbd35c6c2ba68610cb; popularity-4625=1' \\\n",
    "  -H 'dnt: 1' \\\n",
    "  -H 'pragma: no-cache' \\\n",
    "  -H 'priority: u=0, i' \\\n",
    "  -H 'referer: https://m.ykmh.net/' \\\n",
    "  -H 'sec-ch-ua: \"Chromium\";v=\"128\", \"Not;A=Brand\";v=\"24\", \"Microsoft Edge\";v=\"128\"' \\\n",
    "  -H 'sec-ch-ua-mobile: ?0' \\\n",
    "  -H 'sec-ch-ua-platform: \"Windows\"' \\\n",
    "  -H 'sec-fetch-dest: document' \\\n",
    "  -H 'sec-fetch-mode: navigate' \\\n",
    "  -H 'sec-fetch-site: same-site' \\\n",
    "  -H 'sec-fetch-user: ?1' \\\n",
    "  -H 'upgrade-insecure-requests: 1' \\\n",
    "  -H 'user-agent: Mozilla/5.0 (Windows NT 10.0; Win64; x64) AppleWebKit/537.36 (KHTML, like Gecko) Chrome/128.0.0.0 Safari/537.36 Edg/128.0.0.0'\n",
    "  \"\"\""
   ]
  },
  {
   "cell_type": "code",
   "execution_count": 2,
   "metadata": {},
   "outputs": [
    {
     "name": "stdout",
     "output_type": "stream",
     "text": [
      "'accept': 'text/html,application/xhtml+xml,application/xml;q=0.9,image/avif,image/webp,image/apng,*/*;q=0.8,application/signed-exchange;v=b3;q=0.7',\n",
      "'accept-language': 'zh-CN,zh;q=0.9,en;q=0.8,en-GB;q=0.7,en-US;q=0.6',\n",
      "'cache-control': 'no-cache',\n",
      "'cookie': 'PHPSESSID=v5q5o55vc6baehcfkbretvio1o; _csrf=2y9PNxTnYgpnTKuhsjjMoFWM2jlmS8x0; X_CACHE_KEY=4c42faae2fe6bcdbd35c6c2ba68610cb; popularity-4625=1',\n",
      "'dnt': '1',\n",
      "'pragma': 'no-cache',\n",
      "'priority': 'u=0, i',\n",
      "'referer': 'https://m.ykmh.net/',\n",
      "'sec-ch-ua': '\"Chromium\";v=\"128\", \"Not;A=Brand\";v=\"24\", \"Microsoft Edge\";v=\"128\"',\n",
      "'sec-ch-ua-mobile': '?0',\n",
      "'sec-ch-ua-platform': '\"Windows\"',\n",
      "'sec-fetch-dest': 'document',\n",
      "'sec-fetch-mode': 'navigate',\n",
      "'sec-fetch-site': 'same-site',\n",
      "'sec-fetch-user': '?1',\n",
      "'upgrade-insecure-requests': '1',\n",
      "'user-agent': 'Mozilla/5.0 (Windows NT 10.0; Win64; x64) AppleWebKit/537.36 (KHTML, like Gecko) Chrome/128.0.0.0 Safari/537.36 Edg/128.0.0.0'\n"
     ]
    }
   ],
   "source": [
    "print(',\\n'.join([line.split('-H')[1].strip().replace(': ',\"': '\") for line in cURL_bash.split('\\\\') if '-H' in line]))"
   ]
  },
  {
   "cell_type": "code",
   "execution_count": 42,
   "metadata": {},
   "outputs": [
    {
     "data": {
      "text/plain": [
       "[1, 1, 2]"
      ]
     },
     "execution_count": 42,
     "metadata": {},
     "output_type": "execute_result"
    }
   ],
   "source": [
    "l=[1]+[1]\n",
    "l+=[2]\n",
    "l\n"
   ]
  },
  {
   "cell_type": "code",
   "execution_count": null,
   "metadata": {},
   "outputs": [],
   "source": []
  }
 ],
 "metadata": {
  "kernelspec": {
   "display_name": "spider",
   "language": "python",
   "name": "python3"
  },
  "language_info": {
   "codemirror_mode": {
    "name": "ipython",
    "version": 3
   },
   "file_extension": ".py",
   "mimetype": "text/x-python",
   "name": "python",
   "nbconvert_exporter": "python",
   "pygments_lexer": "ipython3",
   "version": "3.10.14"
  }
 },
 "nbformat": 4,
 "nbformat_minor": 2
}
