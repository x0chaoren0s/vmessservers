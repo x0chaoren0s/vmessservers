{
 "cells": [
  {
   "cell_type": "code",
   "execution_count": 1,
   "metadata": {},
   "outputs": [
    {
     "name": "stderr",
     "output_type": "stream",
     "text": [
      "2023-04-06 18:25:41 - Server_list_parser_sshocean - INFO - [https://sshocean.com], https://sshocean.com/ssh7days\n",
      "2023-04-06 18:25:41 - Server_parser_base - INFO - num of servers: 0\n",
      "2023-04-06 18:25:41 - Server_parser_base - INFO - num of servers: 0\n",
      "2023-04-06 18:25:41 - Server_parser_base - INFO - num of servers: 0\n"
     ]
    }
   ],
   "source": [
    "import requests\n",
    "from lxml import etree\n",
    "from server_parser_sshocean import Server_parser_sshocean\n",
    "solve_recaptcha_v2=Server_parser_sshocean({}).solve_recaptcha_v2\n",
    "getRandStr=Server_parser_sshocean({}).getRandStr"
   ]
  },
  {
   "cell_type": "code",
   "execution_count": null,
   "metadata": {},
   "outputs": [],
   "source": [
    "headers={\n",
    "    \n",
    "}"
   ]
  },
  {
   "cell_type": "code",
   "execution_count": 2,
   "metadata": {},
   "outputs": [
    {
     "data": {
      "text/plain": [
       "<Response [200]>"
      ]
     },
     "execution_count": 2,
     "metadata": {},
     "output_type": "execute_result"
    }
   ],
   "source": [
    "url = 'https://sshocean.com/ssh7days/australia/nl02'\n",
    "res1 = requests.get(url, allow_redirects=False)\n",
    "res1"
   ]
  },
  {
   "cell_type": "code",
   "execution_count": 3,
   "metadata": {},
   "outputs": [
    {
     "name": "stderr",
     "output_type": "stream",
     "text": [
      "2023-04-06 18:25:47 - Server_parser_base - INFO - getting yescaptcha taskID...\n",
      "2023-04-06 18:25:47 - Server_parser_base - INFO - getting yescaptcha taskID...\n",
      "2023-04-06 18:25:49 - Server_parser_base - INFO - yescaptcha taskID: 65174d3a-d465-11ed-b424-4a7b0c2cfc4d\n",
      "2023-04-06 18:25:49 - Server_parser_base - INFO - yescaptcha taskID: 65174d3a-d465-11ed-b424-4a7b0c2cfc4d\n",
      "2023-04-06 18:25:49 - Server_parser_base - INFO - getting yescaptcha result...\n",
      "2023-04-06 18:25:49 - Server_parser_base - INFO - getting yescaptcha result...\n",
      "2023-04-06 18:25:50 - Server_parser_base - INFO - spent 4s in getting...\n",
      "2023-04-06 18:25:50 - Server_parser_base - INFO - spent 4s in getting...\n",
      "2023-04-06 18:25:56 - Server_parser_base - INFO - spent 8s in getting...\n",
      "2023-04-06 18:25:56 - Server_parser_base - INFO - spent 8s in getting...\n",
      "2023-04-06 18:26:02 - Server_parser_base - INFO - spent 12s in getting...\n",
      "2023-04-06 18:26:02 - Server_parser_base - INFO - spent 12s in getting...\n",
      "2023-04-06 18:26:08 - Server_parser_base - INFO - spent 16s in getting...\n",
      "2023-04-06 18:26:08 - Server_parser_base - INFO - spent 16s in getting...\n"
     ]
    },
    {
     "data": {
      "text/plain": [
       "('6LeIe8IUAAAAANPfiicMTNlJxVdExZBBAIO0VSHu',\n",
       " '03AKH6MREooCtU9TXN6gzO2z0zWeKIOUlLK4OMxRFrg-EMNYODfH1i4jd9isEuZxe1bfv6XzEVzZ-mIIZ83Rqz5a1HKxm7nZLp9qdhZGT7vCwszpExwo0p_xfN_9c_SFxCtKZXxXdPyWQ8JNvoXWREqiYE1hi79n-0jVb9-WeowXSlbgoE0asEwaRLVIL7wWjhtBl6EiyHtWkqL5NRCMkqwnxgyszfeisEe0YkANxVY0LSnrd-5IJO7bJfqYd00Mmm6FjbWl2mkwBCXwJ8kvs4wIOhHdcz2BNhvzdW_9oMACJfRH1TADJzDtmdrfxcnnFZudLClmR2jg6N0147ip0Fj1WYYk5EmeA_3AEtvlrHs1RY4hib6qMWtKJ9uLygJ7oGPXYyMO_wGGPUk-dcG_DvgMHvRokwPA-qYDNVY_6XmyK1Uygtl0EEADYq8l0EVFq-VgLdNfYIVmzNPU27ozfDbkzZplIKjsO4DI1gpm-NTWuWaJ4dEv_ul33Ox-cTQ_XG_ONgqSwri-mblpwLYAsyt60mDtYSv6C_mKoIGyNo4A_53nnflSvTL56cyGdQxDFFPmWkR2mYJm47')"
      ]
     },
     "execution_count": 3,
     "metadata": {},
     "output_type": "execute_result"
    }
   ],
   "source": [
    "html=etree.HTML(res1.text)\n",
    "websiteKey = html.xpath('//div[@class=\"g-recaptcha\"]/@data-sitekey')[0]\n",
    "form_data=dict()\n",
    "form_data['username'] = 'fasdfsadf'\n",
    "form_data['password'] = 'fasdfsadf'\n",
    "form_data['g-recaptcha-response'] = solve_recaptcha_v2(url,websiteKey)\n",
    "form_data['submit'] = ''\n",
    "websiteKey, form_data['g-recaptcha-response']"
   ]
  },
  {
   "cell_type": "code",
   "execution_count": 4,
   "metadata": {},
   "outputs": [
    {
     "data": {
      "text/plain": [
       "<Response [200]>"
      ]
     },
     "execution_count": 4,
     "metadata": {},
     "output_type": "execute_result"
    }
   ],
   "source": [
    "res2=requests.post(url,form_data)\n",
    "res2"
   ]
  },
  {
   "cell_type": "code",
   "execution_count": 5,
   "metadata": {},
   "outputs": [
    {
     "data": {
      "text/plain": [
       "'Sorry Server not respond, please choose another server'"
      ]
     },
     "execution_count": 5,
     "metadata": {},
     "output_type": "execute_result"
    }
   ],
   "source": [
    "html2=etree.HTML(res2.text)\n",
    "html2.xpath('//div[@class=\"alert alert-warning\"]/text()[2]')[0].strip()"
   ]
  }
 ],
 "metadata": {
  "kernelspec": {
   "display_name": "spider",
   "language": "python",
   "name": "python3"
  },
  "language_info": {
   "codemirror_mode": {
    "name": "ipython",
    "version": 3
   },
   "file_extension": ".py",
   "mimetype": "text/x-python",
   "name": "python",
   "nbconvert_exporter": "python",
   "pygments_lexer": "ipython3",
   "version": "3.7.15"
  },
  "orig_nbformat": 4
 },
 "nbformat": 4,
 "nbformat_minor": 2
}
